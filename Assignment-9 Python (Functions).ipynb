{
 "cells": [
  {
   "cell_type": "markdown",
   "id": "44d3917b",
   "metadata": {},
   "source": [
    "1. What is a lambda function in Python, and how does it differ from a regular function?\n",
    "A.In Python, a lambda function, also known as an anonymous function, is a small, single-expression function that does not have a name. It is created using the lambda keyword and is typically used for simple, one-liner functions.\n",
    "\n",
    "Here's the general syntax of a lambda function:\n",
    "lambda arguments: expression\n",
    "\n",
    "A lambda function can take any number of arguments but must have only one expression. The expression is evaluated and the result is returned when the lambda function is called.\n",
    "\n",
    "The main difference between a lambda function and a regular function lies in their syntax and usage:\n",
    "\n",
    "1.Syntax: Lambda functions are defined using the lambda keyword, while regular functions are defined using the def keyword followed by a function name.\n",
    "\n",
    "2.Name: Lambda functions are anonymous; they do not have a name. Regular functions have a name by which they are defined and called.\n",
    "\n",
    "3.Complexity: Lambda functions are generally used for simple and concise functions that can be expressed in a single line. Regular functions can contain multiple statements and can be more complex.\n",
    "\n",
    "4.Usage: Lambda functions are often used when a small function is needed as an argument to another function, such as in functional programming or when working with higher-order functions like map(), filter(), or reduce(). Regular functions are used for more complex tasks and can be called and reused at multiple points in the program.\n",
    "\n",
    "Here's an example to demonstrate the difference between a lambda function and a regular function:\n",
    "\n",
    "#Lambda function\n",
    "square = lambda x: x**2\n",
    "print(square(5))  # Output: 25\n",
    "\n",
    "#Regular function\n",
    "def square(x):\n",
    "    return x**2\n",
    "\n",
    "print(square(5))  # Output: 25\n",
    "\n",
    "In this example, the lambda function and the regular function both square a given number. While the result is the same, the lambda function is more concise and does not require a separate function definition.\n",
    "\n",
    "\n",
    "2. Can a lambda function in Python have multiple arguments? If yes, how can you define and use them?\n",
    "A.Yes, a lambda function in Python can have multiple arguments. You can define and use multiple arguments in a lambda function by separating them with commas in the argument list.\n",
    "\n",
    "Here's the syntax for a lambda function with multiple arguments:\n",
    "\n",
    "lambda arg1, arg2, ..., argn: expression\n",
    "\n",
    "Each argument is followed by a comma, and the expression is evaluated based on these arguments when the lambda function is called.\n",
    "\n",
    "Here's an example to illustrate the usage of a lambda function with multiple arguments:\n"
   ]
  },
  {
   "cell_type": "code",
   "execution_count": 1,
   "id": "34f5a799",
   "metadata": {},
   "outputs": [
    {
     "name": "stdout",
     "output_type": "stream",
     "text": [
      "8\n",
      "8\n"
     ]
    }
   ],
   "source": [
    "# Lambda function with multiple arguments\n",
    "addition = lambda x, y: x + y\n",
    "print(addition(3, 5)) \n",
    "\n",
    "# Another example with multiple arguments\n",
    "power = lambda base, exponent: base ** exponent\n",
    "print(power(2, 3))  \n"
   ]
  },
  {
   "cell_type": "markdown",
   "id": "ba9e0991",
   "metadata": {},
   "source": [
    "In the first example, the lambda function addition takes two arguments x and y and returns their sum. When called with arguments 3 and 5, it returns 8.\n",
    "\n",
    "In the second example, the lambda function power takes two arguments base and exponent and calculates the result of raising base to the power of exponent. When called with arguments 2 and 3, it returns 8.\n",
    "\n",
    "So, by separating the arguments with commas in the lambda function definition, you can create lambda functions that take multiple arguments."
   ]
  },
  {
   "cell_type": "markdown",
   "id": "cca96885",
   "metadata": {},
   "source": [
    "3. How are lambda functions typically used in Python? Provide an example use case.\n",
    "A.Lambda functions in Python are commonly used in scenarios where a small, one-time function is required, especially when working with higher-order functions like map(), filter(), and reduce(). They are also used in functional programming paradigms.\n",
    "\n",
    "One example use case for lambda functions is filtering a list based on a specific condition. The filter() function can be used in conjunction with a lambda function to create a new list containing only the elements that satisfy the given condition."
   ]
  },
  {
   "cell_type": "code",
   "execution_count": 3,
   "id": "84d0e598",
   "metadata": {},
   "outputs": [
    {
     "name": "stdout",
     "output_type": "stream",
     "text": [
      "[2, 4, 6, 8, 10, 12, 14, 16]\n"
     ]
    }
   ],
   "source": [
    "numbers = [1, 2, 3, 4, 5, 6, 7, 8, 9, 10,11,12,14,16]\n",
    "\n",
    "# Filter out even numbers using lambda function\n",
    "even_numbers = list(filter(lambda x: x % 2 == 0, numbers))\n",
    "\n",
    "print(even_numbers) "
   ]
  },
  {
   "cell_type": "markdown",
   "id": "f367787c",
   "metadata": {},
   "source": [
    "In this example, the lambda function lambda x: x % 2 == 0 is used to define the condition for filtering even numbers from the numbers list. The filter() function takes the lambda function and the numbers list as arguments. It applies the lambda function to each element of the list and returns a new list containing only the elements for which the lambda function evaluates to True. The resulting even_numbers list contains all the even numbers from the original numbers list.\n",
    "\n",
    "Lambda functions allow you to create a concise function directly at the point where it is needed without the need for a separate function definition. They provide a convenient way to express simple operations and conditions in a compact form, enhancing code readability and reducing the need for additional named functions."
   ]
  },
  {
   "cell_type": "markdown",
   "id": "ea011415",
   "metadata": {},
   "source": [
    "4. What are the advantages and limitations of lambda functions compared to regular functions in Python?\n",
    "A.Lambda functions in Python have several advantages and limitations compared to regular functions. Let's explore them:\n",
    "\n",
    "Advantages of Lambda Functions:\n",
    "\n",
    "1.Concise Syntax: Lambda functions allow you to define small, one-line functions without the need for a separate function definition. This leads to more concise and compact code.\n",
    "\n",
    "2.Anonymous Functions: Lambda functions are anonymous, meaning they don't require a function name. This is useful when you need a function for a specific task and don't want to clutter your code with unnecessary function names.\n",
    "\n",
    "3.Functional Programming: Lambda functions are particularly useful in functional programming paradigms, where functions are treated as first-class citizens. They can be easily passed as arguments to other functions or used in combination with higher-order functions like map(), filter(), and reduce().\n",
    "\n",
    "Limitations of Lambda Functions:\n",
    "\n",
    "1.Single Expression: Lambda functions are restricted to a single expression. They cannot contain multiple statements or complex logic like regular functions can. This limits their usefulness for more complex operations.\n",
    "\n",
    "2.Limited Readability: While lambda functions can make code more concise, they can sometimes sacrifice readability. Complex lambda functions with long expressions or multiple arguments might become harder to understand and maintain.\n",
    "\n",
    "3.No Statements or Documentation: Lambda functions cannot contain statements, such as print statements or variable assignments. They are limited to expressions only. Additionally, lambda functions do not support docstrings, which are commonly used for documenting regular functions.\n",
    "\n",
    "4.Limited Debugging: Since lambda functions don't have a name, it can be challenging to track and debug them during runtime. Error messages might refer to the lambda function's location rather than its specific name, making it harder to pinpoint the exact issue.\n",
    "\n",
    "In summary, lambda functions provide a concise and convenient way to define simple functions in Python. They are well-suited for small, one-time tasks and functional programming scenarios. However, they have limitations in terms of complexity, readability, and debugging compared to regular functions, which offer more flexibility and maintainability. It's important to consider the trade-offs and choose the appropriate function type based on the requirements of your code.\n",
    "\n",
    "5. Are lambda functions in Python able to access variables defined outside of their own scope? Explain with an example.\n",
    "A. lambda functions in Python can access variables defined outside of their own scope. They have access to variables from the surrounding scope in which they are defined. This concept is known as \"lexical scoping\" or \"closure.\"\n",
    "\n",
    "Here's an example to illustrate how lambda functions can access variables from the outer scope:"
   ]
  },
  {
   "cell_type": "code",
   "execution_count": 4,
   "id": "99926ae2",
   "metadata": {},
   "outputs": [
    {
     "name": "stdout",
     "output_type": "stream",
     "text": [
      "10\n",
      "15\n"
     ]
    }
   ],
   "source": [
    "def multiplier(n):\n",
    "    return lambda x: x * n\n",
    "\n",
    "multiply_by_2 = multiplier(2)\n",
    "multiply_by_3 = multiplier(3)\n",
    "\n",
    "print(multiply_by_2(5))  \n",
    "print(multiply_by_3(5)) "
   ]
  },
  {
   "cell_type": "markdown",
   "id": "14653d46",
   "metadata": {},
   "source": [
    "In this example, the multiplier function takes an argument n and returns a lambda function. The lambda function, defined inside multiplier, multiplies its argument x with the value of n. When the multiplier function is called with 2, it returns a lambda function that multiplies its argument by 2. Similarly, when called with 3, it returns a lambda function that multiplies its argument by 3.\n",
    "\n",
    "The lambda functions multiply_by_2 and multiply_by_3 are assigned the returned lambda functions from multiplier(2) and multiplier(3) respectively. These lambda functions remember the value of n from the outer scope where they were defined.\n",
    "\n",
    "When multiply_by_2(5) is called, the lambda function multiplies 5 by the value of n (which is 2), resulting in 10. Similarly, multiply_by_3(5) multiplies 5 by the value of n (which is 3), resulting in 15.\n",
    "\n",
    "Therefore, lambda functions can access variables from their enclosing scope, allowing them to retain and utilize values from the outer scope even after the outer function has completed its execution."
   ]
  },
  {
   "cell_type": "markdown",
   "id": "90526e25",
   "metadata": {},
   "source": [
    "6. Write a lambda function to calculate the square of a given number.\n",
    "A. lambda function that calculates the square of a given number:\n",
    "square = lambda x: x**2\n",
    "\n",
    "In this lambda function, the argument x is squared using the exponentiation operator (**). when the lambda function is called with a number, it returns the square of that number.\n",
    "\n",
    "Here's an example of how to use the lambda function to calculate the square of a number:"
   ]
  },
  {
   "cell_type": "code",
   "execution_count": 9,
   "id": "c03b0fcc",
   "metadata": {},
   "outputs": [
    {
     "name": "stdout",
     "output_type": "stream",
     "text": [
      "25\n"
     ]
    }
   ],
   "source": [
    "square = lambda x: x**2\n",
    "\n",
    "number = 5\n",
    "result = square(number)\n",
    "print(result)  "
   ]
  },
  {
   "cell_type": "markdown",
   "id": "420306a7",
   "metadata": {},
   "source": [
    "In this example, the lambda function square is defined to calculate the square of a number. The variable number is assigned the value 5, and then the lambda function is called with number as the argument. The result is stored in the variable result, which is then printed. The output will be 25, which is the square of 5.\n",
    "\n",
    "You can use this approach to calculate the square of any number by assigning the desired value to the variable number and calling the lambda function with that variable as the argument."
   ]
  },
  {
   "cell_type": "markdown",
   "id": "fdfac1b7",
   "metadata": {},
   "source": [
    "7. Create a lambda function to find the maximum value in a list of integers.\n",
    "A.Here's a lambda function that finds the maximum value in a list of integers:"
   ]
  },
  {
   "cell_type": "code",
   "execution_count": 10,
   "id": "4f2a94ad",
   "metadata": {},
   "outputs": [
    {
     "name": "stdout",
     "output_type": "stream",
     "text": [
      "9\n"
     ]
    }
   ],
   "source": [
    "numbers = [5, 2, 8, 1, 9, 4]\n",
    "\n",
    "max_value = lambda lst: max(lst)\n",
    "\n",
    "result = max_value(numbers)\n",
    "print(result)  "
   ]
  },
  {
   "cell_type": "markdown",
   "id": "db11b1fb",
   "metadata": {},
   "source": [
    "In this example, the lambda function max_value takes a list lst as an argument and uses the max() function to find the maximum value in that list. When the lambda function is called with the numbers list, it returns the maximum value, which is 9. The result is then printed.\n",
    "\n",
    "You can use this lambda function to find the maximum value in any list of integers by calling it with the desired list as an argument."
   ]
  },
  {
   "cell_type": "markdown",
   "id": "e90c6c45",
   "metadata": {},
   "source": [
    "8. Implement a lambda function to filter out all the even numbers from a list of integers.\n",
    "A. lambda function that filters out all the even numbers from a list of integers:"
   ]
  },
  {
   "cell_type": "code",
   "execution_count": 11,
   "id": "c7658a05",
   "metadata": {},
   "outputs": [
    {
     "name": "stdout",
     "output_type": "stream",
     "text": [
      "[2, 4, 6, 8, 10]\n"
     ]
    }
   ],
   "source": [
    "numbers = [1, 2, 3, 4, 5, 6, 7, 8, 9, 10]\n",
    "\n",
    "even_numbers = list(filter(lambda x: x % 2 == 0, numbers))\n",
    "\n",
    "print(even_numbers)"
   ]
  },
  {
   "cell_type": "markdown",
   "id": "7a6682d5",
   "metadata": {},
   "source": [
    "In this example, the lambda function lambda x: x % 2 == 0 is used as the filter condition inside the filter() function. The lambda function takes an element x and checks if it is divisible by 2 without a remainder, i.e., if it is an even number. The filter() function applies this lambda function to each element of the numbers list and returns a new list containing only the elements for which the lambda function evaluates to True. The resulting even_numbers list contains all the even numbers from the original numbers list.\n",
    "\n",
    "By modifying the lambda function or the list of numbers, you can easily filter out different types of elements based on your requirements."
   ]
  },
  {
   "cell_type": "markdown",
   "id": "a460590e",
   "metadata": {},
   "source": [
    "9. Write a lambda function to sort a list of strings in ascending order based on the length of each string.\n",
    "A.lambda function that sorts a list of strings in ascending order based on the length of each string:"
   ]
  },
  {
   "cell_type": "code",
   "execution_count": 12,
   "id": "3515355b",
   "metadata": {},
   "outputs": [
    {
     "name": "stdout",
     "output_type": "stream",
     "text": [
      "['date', 'apple', 'banana', 'cherry', 'elderberry']\n"
     ]
    }
   ],
   "source": [
    "strings = [\"apple\", \"banana\", \"cherry\", \"date\", \"elderberry\"]\n",
    "\n",
    "sorted_strings = sorted(strings, key=lambda s: len(s))\n",
    "\n",
    "print(sorted_strings)"
   ]
  },
  {
   "cell_type": "markdown",
   "id": "02d99bc5",
   "metadata": {},
   "source": [
    "In this example, the lambda function lambda s: len(s) is used as the key function inside the sorted() function. The lambda function takes a string s and returns the length of that string using the len() function. The sorted() function uses this lambda function as the key to determine the sorting order. It sorts the strings list in ascending order based on the length of each string.\n",
    "\n",
    "The resulting sorted_strings list contains the strings sorted in ascending order based on their lengths.\n",
    "\n",
    "You can use this lambda function to sort a list of strings based on their lengths in different orders (ascending or descending) by modifying the sorted() function or the lambda function accordingly."
   ]
  },
  {
   "cell_type": "markdown",
   "id": "9e7d0221",
   "metadata": {},
   "source": [
    "10. Create a lambda function that takes two lists as input and returns a new list containing the common elements between the two lists.\n",
    "A.Certainly! Here's a lambda function that takes two lists as input and returns a new list containing the common elements between the two lists:"
   ]
  },
  {
   "cell_type": "code",
   "execution_count": 13,
   "id": "8406946e",
   "metadata": {},
   "outputs": [
    {
     "name": "stdout",
     "output_type": "stream",
     "text": [
      "[4, 5]\n"
     ]
    }
   ],
   "source": [
    "list1 = [1, 2, 3, 4, 5]\n",
    "list2 = [4, 5, 6, 7, 8]\n",
    "\n",
    "common_elements = list(filter(lambda x: x in list1, list2))\n",
    "\n",
    "print(common_elements)  # Output: [4, 5]\n"
   ]
  },
  {
   "cell_type": "markdown",
   "id": "e6eafa35",
   "metadata": {},
   "source": [
    "In this example, the lambda function lambda x: x in list1 is used as the filter condition inside the filter() function. The lambda function takes an element x and checks if it is present in list1 using the in operator. The filter() function applies this lambda function to each element of list2 and returns a new list containing only the elements for which the lambda function evaluates to True, i.e., the common elements between list1 and list2.\n",
    "\n",
    "The resulting common_elements list contains the common elements [4, 5] between the two input lists.\n",
    "\n",
    "You can use this lambda function to find the common elements between any two lists by modifying the list1 and list2 variables accordingly."
   ]
  },
  {
   "cell_type": "markdown",
   "id": "833d0991",
   "metadata": {},
   "source": [
    "11. Write a recursive function to calculate the factorial of a given positive integer.\n",
    "A. A recursive function to calculate the factorial of a given positive integer:"
   ]
  },
  {
   "cell_type": "code",
   "execution_count": 15,
   "id": "a140e263",
   "metadata": {},
   "outputs": [],
   "source": [
    "def factorial(n):\n",
    "    if n == 0:\n",
    "        return 1\n",
    "    else:\n",
    "        return n * factorial(n - 1)"
   ]
  },
  {
   "cell_type": "markdown",
   "id": "b3725ef6",
   "metadata": {},
   "source": [
    "In this example, the factorial function is defined to calculate the factorial of a given positive integer n. The base case is when n is equal to 0, in which case the function returns 1. For any other positive integer n, the function recursively calls itself with n - 1 and multiplies it by n. This recursive process continues until the base case is reached.\n",
    "\n",
    "Here's an example of how to use the factorial function to calculate the factorial of a number:"
   ]
  },
  {
   "cell_type": "code",
   "execution_count": 16,
   "id": "8eafedf0",
   "metadata": {},
   "outputs": [
    {
     "name": "stdout",
     "output_type": "stream",
     "text": [
      "120\n"
     ]
    }
   ],
   "source": [
    "result = factorial(5)\n",
    "print(result) "
   ]
  },
  {
   "cell_type": "markdown",
   "id": "464469f4",
   "metadata": {},
   "source": [
    "In this example, the factorial function is called with the argument 5, and it returns the factorial of 5, which is 120. The result is then printed.\n",
    "\n",
    "The recursive approach allows the function to repeatedly break down the problem into smaller subproblems until reaching the base case, resulting in the calculation of the factorial."
   ]
  },
  {
   "cell_type": "markdown",
   "id": "b9e31008",
   "metadata": {},
   "source": [
    "12. Implement a recursive function to compute the nth Fibonacci number.\n",
    "A. A recursive function to compute the nth Fibonacci number:"
   ]
  },
  {
   "cell_type": "markdown",
   "id": "1a9a7446",
   "metadata": {},
   "source": [
    "def fibonacci(n):\n",
    "    if n <= 1:\n",
    "        return n\n",
    "    else:\n",
    "        return fibonacci(n - 1) + fibonacci(n - 2)"
   ]
  },
  {
   "cell_type": "markdown",
   "id": "c603e963",
   "metadata": {},
   "source": [
    "In this example, the fibonacci function is defined to compute the nth Fibonacci number. The base case is when n is less than or equal to 1. In these cases, the function simply returns n. For any value of n greater than 1, the function recursively calls itself with n - 1 and n - 2, and adds the results of these two recursive calls together.\n",
    "\n",
    "Here's an example of how to use the fibonacci function to compute the nth Fibonacci number:"
   ]
  },
  {
   "cell_type": "code",
   "execution_count": 19,
   "id": "ec695cf4",
   "metadata": {},
   "outputs": [
    {
     "name": "stdout",
     "output_type": "stream",
     "text": [
      "8\n"
     ]
    }
   ],
   "source": [
    "def fibonacci(n):\n",
    "    if n <= 1:\n",
    "        return n\n",
    "    else:\n",
    "        return fibonacci(n - 1) + fibonacci(n - 2)\n",
    "\n",
    "# Compute the 6th Fibonacci number\n",
    "result = fibonacci(6)\n",
    "print(result)"
   ]
  },
  {
   "cell_type": "markdown",
   "id": "be0035e2",
   "metadata": {},
   "source": [
    "In this example, the fibonacci function is defined to compute the nth Fibonacci number using recursion. The function is then called with the argument 6 to compute the 6th Fibonacci number. The result, which is 8, is stored in the variable result and printed.\n",
    "\n",
    "You can use this approach to compute any desired Fibonacci number by assigning the desired value of n to the function call fibonacci(n). The function will recursively calculate the Fibonacci number and return the result."
   ]
  },
  {
   "cell_type": "markdown",
   "id": "4e81fadb",
   "metadata": {},
   "source": [
    "13. Create a recursive function to find the sum of all the elements in a given list.\n",
    "A.Here's a recursive function to find the sum of all the elements in a given list"
   ]
  },
  {
   "cell_type": "code",
   "execution_count": 20,
   "id": "fa861912",
   "metadata": {},
   "outputs": [
    {
     "name": "stdout",
     "output_type": "stream",
     "text": [
      "15\n"
     ]
    }
   ],
   "source": [
    "def recursive_sum(lst):\n",
    "    if not lst:\n",
    "        return 0\n",
    "    else:\n",
    "        return lst[0] + recursive_sum(lst[1:])\n",
    "\n",
    "# Example usage\n",
    "numbers = [1, 2, 3, 4, 5]\n",
    "result = recursive_sum(numbers)\n",
    "print(result)"
   ]
  },
  {
   "cell_type": "markdown",
   "id": "2d848bad",
   "metadata": {},
   "source": [
    "In this example, the recursive_sum function takes a list lst as input. The base case is when the list is empty, in which case the function returns 0. For any non-empty list, the function recursively calls itself by summing the first element of the list with the sum of the remaining elements obtained by slicing the list from index 1 onwards.\n",
    "\n",
    "By recursively breaking down the list into smaller sublists, the function calculates the sum of all the elements. The result is returned when the base case is reached, which is an empty list.\n",
    "\n",
    "In the example usage, the recursive_sum function is called with the numbers list [1, 2, 3, 4, 5]. It recursively sums all the elements in the list and returns the result 15. The result is then printed."
   ]
  },
  {
   "cell_type": "markdown",
   "id": "090c12e8",
   "metadata": {},
   "source": [
    "14. Write a recursive function to determine whether a given string is a palindrome.\n",
    "A.def is_palindrome(string):\n",
    "    if len(string) <= 1:\n",
    "        return True\n",
    "    elif string[0] != string[-1]:\n",
    "        return False\n",
    "    else:\n",
    "        return is_palindrome(string[1:-1])\n",
    "        \n",
    "In this example, the is_palindrome function takes a string string as input. The base case is when the length of the string is less than or equal to 1, in which case the function returns True since single-character strings are considered palindromes. For any string with length greater than 1, the function checks if the first character is equal to the last character. If they are not equal, it returns False since the string cannot be a palindrome. If the first and last characters are equal, the function recursively calls itself with the string sliced from index 1 to the second-to-last character. This recursive process continues until the base case is reached.\n",
    "\n",
    "Here's an example of how to use the is_palindrome function to check if a string is a palindrome:"
   ]
  },
  {
   "cell_type": "code",
   "execution_count": 22,
   "id": "cf65a2c2",
   "metadata": {},
   "outputs": [
    {
     "name": "stdout",
     "output_type": "stream",
     "text": [
      "True\n",
      "False\n"
     ]
    }
   ],
   "source": [
    "def is_palindrome(string):\n",
    "    if len(string) <= 1:\n",
    "        return True\n",
    "    elif string[0] != string[-1]:\n",
    "        return False\n",
    "    else:\n",
    "        return is_palindrome(string[1:-1])\n",
    "    \n",
    "result1 = is_palindrome(\"level\")\n",
    "print(result1)  # Output: True\n",
    "\n",
    "result2 = is_palindrome(\"hello\")\n",
    "print(result2)  # Output: False"
   ]
  },
  {
   "cell_type": "markdown",
   "id": "3fe25407",
   "metadata": {},
   "source": [
    "In the first example, the is_palindrome function is called with the string \"level\", which is a palindrome. The function returns True, indicating that the string is indeed a palindrome.\n",
    "\n",
    "In the second example, the is_palindrome function is called with the string \"hello\", which is not a palindrome. The function returns False, indicating that the string is not a palindrome.\n",
    "\n",
    "You can use this approach to check whether any given string is a palindrome by calling the is_palindrome function with the desired string as an argument."
   ]
  },
  {
   "cell_type": "markdown",
   "id": "42df2608",
   "metadata": {},
   "source": [
    "15. Implement a recursive function to find the greatest common divisor (GCD) of two positive integers.\n",
    "A.def gcd(a, b):\n",
    "    if b == 0:\n",
    "        return a\n",
    "    else:\n",
    "        return gcd(b, a % b)\n",
    "        \n",
    "  In this example, the gcd function takes two positive integers a and b as input. The base case is when b is equal to 0, in which case the function returns a as the GCD. For any other values of a and b, the function recursively calls itself with b and the remainder of a divided by b (i.e., a % b). This recursive process continues until the base case is reached.\n",
    "\n",
    "Here's an example of how to use the gcd function to find the GCD of two positive integers"
   ]
  },
  {
   "cell_type": "code",
   "execution_count": 24,
   "id": "808a9441",
   "metadata": {},
   "outputs": [
    {
     "name": "stdout",
     "output_type": "stream",
     "text": [
      "12\n"
     ]
    }
   ],
   "source": [
    "def gcd(a, b):\n",
    "    if b == 0:\n",
    "        return a\n",
    "    else:\n",
    "        return gcd(b, a % b)\n",
    "    \n",
    "result = gcd(24, 36)\n",
    "print(result)"
   ]
  },
  {
   "cell_type": "markdown",
   "id": "4deb9b92",
   "metadata": {},
   "source": [
    "In this example, the gcd function is called with the arguments 24 and 36. It recursively calculates the GCD of these two numbers, which is 12. The result is then printed.\n",
    "\n",
    "You can use this approach to find the GCD of any two positive integers by calling the gcd function with the desired values of a and b."
   ]
  }
 ],
 "metadata": {
  "kernelspec": {
   "display_name": "Python 3 (ipykernel)",
   "language": "python",
   "name": "python3"
  },
  "language_info": {
   "codemirror_mode": {
    "name": "ipython",
    "version": 3
   },
   "file_extension": ".py",
   "mimetype": "text/x-python",
   "name": "python",
   "nbconvert_exporter": "python",
   "pygments_lexer": "ipython3",
   "version": "3.10.9"
  }
 },
 "nbformat": 4,
 "nbformat_minor": 5
}
